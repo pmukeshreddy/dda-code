{
 "cells": [
  {
   "cell_type": "code",
   "execution_count": 3,
   "metadata": {},
   "outputs": [
    {
     "name": "stdout",
     "output_type": "stream",
     "text": [
      "2\n",
      "1\n",
      "0\n"
     ]
    }
   ],
   "source": [
    "for i in range(2,-1,-1):\n",
    "    print(i)"
   ]
  },
  {
   "cell_type": "code",
   "execution_count": 2,
   "metadata": {},
   "outputs": [
    {
     "data": {
      "text/plain": [
       "49"
      ]
     },
     "execution_count": 2,
     "metadata": {},
     "output_type": "execute_result"
    }
   ],
   "source": [
    "n=100\n",
    "n//2-1"
   ]
  },
  {
   "cell_type": "code",
   "execution_count": 3,
   "metadata": {},
   "outputs": [
    {
     "name": "stdout",
     "output_type": "stream",
     "text": [
      "50\n",
      "49\n",
      "48\n",
      "47\n",
      "46\n",
      "45\n",
      "44\n",
      "43\n",
      "42\n",
      "41\n",
      "40\n",
      "39\n",
      "38\n",
      "37\n",
      "36\n",
      "35\n",
      "34\n",
      "33\n",
      "32\n",
      "31\n",
      "30\n",
      "29\n",
      "28\n",
      "27\n",
      "26\n",
      "25\n",
      "24\n",
      "23\n",
      "22\n",
      "21\n",
      "20\n",
      "19\n",
      "18\n",
      "17\n",
      "16\n",
      "15\n",
      "14\n",
      "13\n",
      "12\n",
      "11\n",
      "10\n",
      "9\n",
      "8\n",
      "7\n",
      "6\n",
      "5\n",
      "4\n",
      "3\n",
      "2\n",
      "1\n",
      "0\n"
     ]
    }
   ],
   "source": [
    "for i in range(n//2,-1,-1):\n",
    "    print(i)"
   ]
  },
  {
   "cell_type": "code",
   "execution_count": 3,
   "metadata": {},
   "outputs": [
    {
     "name": "stdout",
     "output_type": "stream",
     "text": [
      "5 4 3 2 \n"
     ]
    }
   ],
   "source": []
  },
  {
   "cell_type": "code",
   "execution_count": 1,
   "metadata": {},
   "outputs": [
    {
     "ename": "NameError",
     "evalue": "name 'n' is not defined",
     "output_type": "error",
     "traceback": [
      "\u001b[0;31m---------------------------------------------------------------------------\u001b[0m",
      "\u001b[0;31mNameError\u001b[0m                                 Traceback (most recent call last)",
      "\u001b[1;32m/Users/mukeshreddy/Documents/dda/partice.ipynb Cell 5\u001b[0m in \u001b[0;36m<cell line: 31>\u001b[0;34m()\u001b[0m\n\u001b[1;32m     <a href='vscode-notebook-cell:/Users/mukeshreddy/Documents/dda/partice.ipynb#W4sZmlsZQ%3D%3D?line=27'>28</a>\u001b[0m     \u001b[39mprint\u001b[39m()\n\u001b[1;32m     <a href='vscode-notebook-cell:/Users/mukeshreddy/Documents/dda/partice.ipynb#W4sZmlsZQ%3D%3D?line=29'>30</a>\u001b[0m arr \u001b[39m=\u001b[39m [\u001b[39m2\u001b[39m,\u001b[39m34\u001b[39m,\u001b[39m54\u001b[39m,\u001b[39m323\u001b[39m]\n\u001b[0;32m---> <a href='vscode-notebook-cell:/Users/mukeshreddy/Documents/dda/partice.ipynb#W4sZmlsZQ%3D%3D?line=30'>31</a>\u001b[0m delete_root_node(arr) \n\u001b[1;32m     <a href='vscode-notebook-cell:/Users/mukeshreddy/Documents/dda/partice.ipynb#W4sZmlsZQ%3D%3D?line=31'>32</a>\u001b[0m printarray(arr)\n",
      "\u001b[1;32m/Users/mukeshreddy/Documents/dda/partice.ipynb Cell 5\u001b[0m in \u001b[0;36mdelete_root_node\u001b[0;34m(arr)\u001b[0m\n\u001b[1;32m     <a href='vscode-notebook-cell:/Users/mukeshreddy/Documents/dda/partice.ipynb#W4sZmlsZQ%3D%3D?line=16'>17</a>\u001b[0m \u001b[39mdef\u001b[39;00m \u001b[39mdelete_root_node\u001b[39m(arr):\n\u001b[1;32m     <a href='vscode-notebook-cell:/Users/mukeshreddy/Documents/dda/partice.ipynb#W4sZmlsZQ%3D%3D?line=17'>18</a>\u001b[0m     \u001b[39mglobal\u001b[39;00m n\n\u001b[0;32m---> <a href='vscode-notebook-cell:/Users/mukeshreddy/Documents/dda/partice.ipynb#W4sZmlsZQ%3D%3D?line=18'>19</a>\u001b[0m     last_element \u001b[39m=\u001b[39m arr[n\u001b[39m-\u001b[39m\u001b[39m1\u001b[39m]\n\u001b[1;32m     <a href='vscode-notebook-cell:/Users/mukeshreddy/Documents/dda/partice.ipynb#W4sZmlsZQ%3D%3D?line=19'>20</a>\u001b[0m     arr[\u001b[39m0\u001b[39m]\u001b[39m=\u001b[39mlast_element\n\u001b[1;32m     <a href='vscode-notebook-cell:/Users/mukeshreddy/Documents/dda/partice.ipynb#W4sZmlsZQ%3D%3D?line=20'>21</a>\u001b[0m     n\u001b[39m=\u001b[39mn\u001b[39m-\u001b[39m\u001b[39m1\u001b[39m\n",
      "\u001b[0;31mNameError\u001b[0m: name 'n' is not defined"
     ]
    }
   ],
   "source": [
    "def heapify(arr,n,i):\n",
    "    largest = i\n",
    "    l = 2 * i + 1\n",
    "    r = 2 * i + 2\n",
    "\n",
    "    if l < n and arr[i] < arr[l]:\n",
    "        largest = l\n",
    "    if r < n and arr[i] < arr[r]:\n",
    "        largest = r     \n",
    "\n",
    "    if largest != i:\n",
    "        (arr[i],arr[largest]) = (arr[largest],arr[i])\n",
    "        heapify(arr,n,largest)    \n",
    "\n",
    "\n",
    "\n",
    "def delete_root_node(arr):\n",
    "    global n\n",
    "    last_element = arr[n-1]\n",
    "    arr[0]=last_element\n",
    "    n=n-1\n",
    "    heapify(arr,n,0)\n",
    "\n",
    "\n",
    "def printarray(arr,n):\n",
    "    for i in range(n):\n",
    "        print(arr[i],end=\"\")\n",
    "    print()\n",
    "\n",
    "arr = [2,34,54,323]\n",
    "delete_root_node(arr) \n",
    "printarray(arr)   \n",
    "    \n",
    "        "
   ]
  },
  {
   "cell_type": "code",
   "execution_count": 2,
   "metadata": {},
   "outputs": [
    {
     "name": "stdout",
     "output_type": "stream",
     "text": [
      "0 1 2 3 4 5 6 7 8 9 "
     ]
    }
   ],
   "source": [
    "for i in range(10):\n",
    "        print(i,end=\" \")"
   ]
  },
  {
   "cell_type": "code",
   "execution_count": 1,
   "metadata": {},
   "outputs": [
    {
     "data": {
      "text/plain": [
       "2"
      ]
     },
     "execution_count": 1,
     "metadata": {},
     "output_type": "execute_result"
    }
   ],
   "source": [
    "int(5/2)"
   ]
  },
  {
   "cell_type": "code",
   "execution_count": 1,
   "metadata": {},
   "outputs": [
    {
     "name": "stdout",
     "output_type": "stream",
     "text": [
      "15 10 3 5 4 1 7 2 "
     ]
    },
    {
     "data": {
      "text/plain": [
       "'\\n\\t15\\n\\t/ 5\\t 10\\n/ \\\\ /\\n2 4 3\\n\\nCode is written by Rajat Kumar....\\n'"
      ]
     },
     "execution_count": 1,
     "metadata": {},
     "output_type": "execute_result"
    }
   ],
   "source": [
    "# program to insert new element to Heap\n",
    "\n",
    "# Function to heapify ith node in a Heap\n",
    "# of size n following a Bottom-up approach\n",
    "\n",
    "\n",
    "def heapify(arr, n, i):\n",
    "\tparent = int(((i-1)/2))\n",
    "\t# For Max-Heap\n",
    "\t# If current node is greater than its parent\n",
    "\t# Swap both of them and call heapify again\n",
    "\t# for the parent\n",
    "\tif arr[parent] > 0:\n",
    "\t\tif arr[i] > arr[parent]:\n",
    "\t\t\tarr[i], arr[parent] = arr[parent], arr[i]\n",
    "\t\t\t# Recursively heapify the parent node\n",
    "\t\t\theapify(arr, n, parent)\n",
    "# Function to insert a new node to the Heap\n",
    "\n",
    "\n",
    "def insertNode(arr, key):\n",
    "\tglobal n\n",
    "\t# Increase the size of Heap by 1\n",
    "\tn += 1\n",
    "\t# Insert the element at end of Heap\n",
    "\tarr.append(key)\n",
    "\t# Heapify the new node following a\n",
    "\t# Bottom-up approach\n",
    "\theapify(arr, n, n-1)\n",
    "# A utility function to print array of size n\n",
    "\n",
    "\n",
    "def printArr(arr, n):\n",
    "\tfor i in range(n):\n",
    "\t\tprint(arr[i], end=\" \")\n",
    "\n",
    "\n",
    "# Driver Code\n",
    "# Array representation of Max-Heap\n",
    "'''\n",
    "\t\t10\n",
    "\t/ \\\n",
    "\t5 3\n",
    "\t/ \\\n",
    "\t2 4\n",
    "'''\n",
    "arr = [10, 5, 3, 2, 4, 1, 7]\n",
    "n = 7\n",
    "key = 15\n",
    "insertNode(arr, key)\n",
    "printArr(arr, n)\n",
    "# Final Heap will be:\n",
    "'''\n",
    "\t15\n",
    "\t/ \\\n",
    "5\t 10\n",
    "/ \\ /\n",
    "2 4 3\n",
    "\n",
    "Code is written by Rajat Kumar....\n",
    "'''\n"
   ]
  },
  {
   "cell_type": "code",
   "execution_count": 1,
   "metadata": {},
   "outputs": [],
   "source": [
    "i=0\n",
    "for b in range (1,i+1):\n",
    "  print(b[2])"
   ]
  },
  {
   "cell_type": "code",
   "execution_count": 3,
   "metadata": {},
   "outputs": [
    {
     "data": {
      "text/plain": [
       "15"
      ]
     },
     "execution_count": 3,
     "metadata": {},
     "output_type": "execute_result"
    }
   ],
   "source": [
    "50//3-1"
   ]
  },
  {
   "cell_type": "code",
   "execution_count": 1,
   "metadata": {},
   "outputs": [
    {
     "name": "stdout",
     "output_type": "stream",
     "text": [
      "1\n",
      "2\n",
      "3\n"
     ]
    }
   ],
   "source": [
    "for i in range(1,4):\n",
    "    print(i)"
   ]
  },
  {
   "cell_type": "code",
   "execution_count": 5,
   "metadata": {},
   "outputs": [
    {
     "name": "stdout",
     "output_type": "stream",
     "text": [
      "2\n"
     ]
    }
   ],
   "source": [
    "arr = [1,2,1]\n",
    "\n",
    "arr[0],arr[1] = arr[1],arr[0]\n",
    "\n",
    "print(arr[0])"
   ]
  },
  {
   "cell_type": "code",
   "execution_count": 3,
   "metadata": {},
   "outputs": [
    {
     "name": "stdout",
     "output_type": "stream",
     "text": [
      "10\n"
     ]
    },
    {
     "ename": "IndexError",
     "evalue": "list index out of range",
     "output_type": "error",
     "traceback": [
      "\u001b[0;31m---------------------------------------------------------------------------\u001b[0m",
      "\u001b[0;31mIndexError\u001b[0m                                Traceback (most recent call last)",
      "Cell \u001b[0;32mIn [3], line 7\u001b[0m\n\u001b[1;32m      3\u001b[0m s \u001b[38;5;241m=\u001b[39m queue\u001b[38;5;241m.\u001b[39mpop(\u001b[38;5;241m0\u001b[39m)\n\u001b[1;32m      5\u001b[0m \u001b[38;5;28mprint\u001b[39m(s)\n\u001b[0;32m----> 7\u001b[0m \u001b[38;5;28;01mfor\u001b[39;00m i \u001b[38;5;129;01min\u001b[39;00m \u001b[43mqueue\u001b[49m\u001b[43m[\u001b[49m\u001b[43ms\u001b[49m\u001b[43m]\u001b[49m:\n\u001b[1;32m      8\u001b[0m     \u001b[38;5;28mprint\u001b[39m(s)\n",
      "\u001b[0;31mIndexError\u001b[0m: list index out of range"
     ]
    }
   ],
   "source": [
    "queue = [10,23,43,12]\n",
    "\n",
    "s = queue.pop(0)\n",
    "\n",
    "print(s)\n",
    "\n",
    "for i in queue[s]:\n",
    "    print(s)"
   ]
  },
  {
   "cell_type": "code",
   "execution_count": 4,
   "metadata": {},
   "outputs": [
    {
     "name": "stdout",
     "output_type": "stream",
     "text": [
      "A B C D E F "
     ]
    }
   ],
   "source": [
    "graph = {\n",
    "  'A' : ['B','C'],\n",
    "  'B' : ['D', 'E'],\n",
    "  'C' : ['F'],\n",
    "  'D' : [],\n",
    "  'E' : ['F'],\n",
    "  'F' : []\n",
    "}\n",
    "\n",
    "visited = [] # List to keep track of visited nodes.\n",
    "queue = []     #Initialize a queue\n",
    "\n",
    "def bfs(visited, graph, node):\n",
    "  visited.append(node)\n",
    "  queue.append(node)\n",
    "\n",
    "  while queue:\n",
    "    s = queue.pop(0) \n",
    "    print (s, end = \" \") \n",
    "\n",
    "    for neighbour in graph[s]:\n",
    "      if neighbour not in visited:\n",
    "        visited.append(neighbour)\n",
    "        queue.append(neighbour)\n",
    "\n",
    "# Driver Code\n",
    "bfs(visited, graph, 'A')"
   ]
  },
  {
   "cell_type": "code",
   "execution_count": null,
   "metadata": {},
   "outputs": [
    {
     "ename": "",
     "evalue": "",
     "output_type": "error",
     "traceback": [
      "\u001b[1;31mJupyter cannot be started. Error attempting to locate Jupyter: Running cells with 'Python 3.9.6 64-bit' requires jupyter and notebook package.\n",
      "\u001b[1;31mRun the following command to install 'jupyter and notebook' into the Python environment. \n",
      "\u001b[1;31mCommand: 'python -m pip install jupyter notebook -U\n",
      "\u001b[1;31mor\n",
      "\u001b[1;31mconda install jupyter notebook -U'\n",
      "\u001b[1;31mClick <a href='https://aka.ms/installJupyterForVSCode'>here</a> for more info."
     ]
    }
   ],
   "source": [
    "[0]*8"
   ]
  },
  {
   "cell_type": "code",
   "execution_count": null,
   "metadata": {},
   "outputs": [],
   "source": []
  }
 ],
 "metadata": {
  "kernelspec": {
   "display_name": "Python 3.8.9 64-bit",
   "language": "python",
   "name": "python3"
  },
  "language_info": {
   "codemirror_mode": {
    "name": "ipython",
    "version": 3
   },
   "file_extension": ".py",
   "mimetype": "text/x-python",
   "name": "python",
   "nbconvert_exporter": "python",
   "pygments_lexer": "ipython3",
   "version": "3.9.6"
  },
  "orig_nbformat": 4,
  "vscode": {
   "interpreter": {
    "hash": "31f2aee4e71d21fbe5cf8b01ff0e069b9275f58929596ceb00d14d90e3e16cd6"
   }
  }
 },
 "nbformat": 4,
 "nbformat_minor": 2
}
